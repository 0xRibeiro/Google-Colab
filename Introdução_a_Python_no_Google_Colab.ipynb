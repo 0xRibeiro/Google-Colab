{
  "nbformat": 4,
  "nbformat_minor": 0,
  "metadata": {
    "colab": {
      "provenance": []
    },
    "kernelspec": {
      "name": "python3",
      "display_name": "Python 3"
    },
    "language_info": {
      "name": "python"
    }
  },
  "cells": [
    {
      "cell_type": "markdown",
      "source": [
        "2.1. Primeiros Comandos no Python: Prompt: O que esse código faz e por que ele é considerado o primeiro passo na programação?\n",
        "\n",
        "Ele imprime a frase \"Hello, World!\" no output, sendo considerado o primeiro passo na programação por ser uma tradição desde os primeiros livros de C e uma forma simples de escrever o primeiro programa sem precisar conhecimento prévio."
      ],
      "metadata": {
        "id": "a1AJ2zULjOnx"
      }
    },
    {
      "cell_type": "code",
      "execution_count": 18,
      "metadata": {
        "colab": {
          "base_uri": "https://localhost:8080/"
        },
        "id": "u8nODk3le-1L",
        "outputId": "21e6330e-fc9f-4f67-a550-fd152442be2c"
      },
      "outputs": [
        {
          "output_type": "stream",
          "name": "stdout",
          "text": [
            "Hello, World!\n"
          ]
        }
      ],
      "source": [
        "# 2.1. Primeiros Comandos no Python\n",
        "print(\"Hello, World!\")"
      ]
    },
    {
      "cell_type": "markdown",
      "source": [
        "2.2. Variáveis e Tipos de Dados:\n",
        "Prompt: O que são variávies em Python e como usá-las?\n",
        "\n",
        "Variáveis são nomes que armazenam valores para serem usados posteriormente no programa.\n",
        "Há diversas maneiras de usar variáveis, como printando seus valores ou usando-as em operações matématicas etc. (ex: idade = 15, print(idade + 3) resultado do print = 18)\n",
        "\n",
        "Prompt: Quais são os tipos de dados em Python?\n",
        "\n",
        "Existem muitos tipos de dados em Python, mas os principais são:\n",
        "\n",
        "str = Usado para armazenar textos, usando aspas simples ' ' ou aspas duplas \" \". ex: nome = \"Victor\"\n",
        "\n",
        "int = Usado para armazenar números inteiros, positivos ou negativos. ex: total = 100\n",
        "\n",
        "float = Usado para armazenar números decimais. (utiliza pontos no lugar de virgulas) ex: num1 = 1.6\n",
        "\n",
        "bool = Usado para valores lógicos (verdadeiro ou falso). ex: esta_chovendo = false\n",
        "\n",
        "list & tuple = Usado para armazenar valores mutáveis e imutáveis, respectivamente.\n",
        "\n",
        "ex list: frutas = [\"maça\", \"banana\",\n",
        "\"pera\"]\n",
        "\n",
        "ex tuple: coordenadas = (10.5, 20.3)\n",
        "\n",
        "None = Usado para representar ausência de valor. ex: resultado = None"
      ],
      "metadata": {
        "id": "c_8I69IkjMmQ"
      }
    },
    {
      "cell_type": "code",
      "source": [
        "# 2.2. Variáveis e Tipos de Dados\n",
        "nome = \"João\"\n",
        "idade = 21\n",
        "altura = 1.75\n",
        "print(nome, idade, altura)\n"
      ],
      "metadata": {
        "colab": {
          "base_uri": "https://localhost:8080/"
        },
        "id": "7v91n-ZjllkC",
        "outputId": "6de23006-d3ec-4cd8-8038-94edd540d0bd"
      },
      "execution_count": null,
      "outputs": [
        {
          "output_type": "stream",
          "name": "stdout",
          "text": [
            "João 21 1.75\n"
          ]
        }
      ]
    },
    {
      "cell_type": "markdown",
      "source": [
        "2.3. Operações Aritméticas:\n",
        "Prompt: Como realizar operações aritméticas básicas em Python? (soma, subtração, multiplicação e divisão)\n",
        "\n",
        "Para realizar operações básicas em Python são necessárias duas coisas: Os tipos de dados certos (int, float etc) e o símbolo correto.\n",
        "\n",
        "Soma + (a + b)\n",
        "Subtração - (a - b)\n",
        "Multiplicacão * (a * b)\n",
        "Divisão / (a / b)\n",
        "\n",
        "Também é possível usar alguns desses simbolos com dados string, mas os resultados não são o esperado. (somar duas strings, por exemplo, acaba as concatenando)\n",
        "\n",
        "Execuntando e analisando o código do 2.3, é possível observar que ele apenas declara duas variáveis e as usa para testar as operações básicas,\n",
        "É importante pontuar que, na parte da divisão, ocorre uma mudança interessante. Mesmo que as variáveis \"a\" e \"b\" sejam consideradas int, o resultado da divisão foi um float. Isso acontece porque o operador / sempre retorna um número float, mesmo quando não seja necessário. Para obter uma divisão inteira, é preciso utilizar o operador //."
      ],
      "metadata": {
        "id": "gfFq5BjHjsdH"
      }
    },
    {
      "cell_type": "code",
      "source": [
        "# 2.3. Operações Aritméticas\n",
        "a = 10\n",
        "b = 5\n",
        "soma = a + b\n",
        "subtracao = a - b\n",
        "multiplicacao = a * b\n",
        "divisao = a / b\n",
        "print(soma, subtracao, multiplicacao, divisao)"
      ],
      "metadata": {
        "colab": {
          "base_uri": "https://localhost:8080/"
        },
        "id": "KrFx1GiDtuYY",
        "outputId": "e67f788c-781a-4b2d-9d3d-fce0f537870b"
      },
      "execution_count": null,
      "outputs": [
        {
          "output_type": "stream",
          "name": "stdout",
          "text": [
            "15 5 50 2.0\n"
          ]
        }
      ]
    },
    {
      "cell_type": "markdown",
      "source": [
        "3.1. Calculadora Básica\n",
        "Prompt: Como criar uma calculadora básica em python, com o usuário inserindo 2 números e logo em seguida qual das 4 operações deseja realizar.\n",
        "\n",
        "Nesse exercício o chatgpt mostrou um resultado utilizando if elses, mas optei por usar um match case por ter melhor legibilidade."
      ],
      "metadata": {
        "id": "ck5z4YNej3do"
      }
    },
    {
      "cell_type": "code",
      "source": [
        "from ast import match_case\n",
        "# 3.1. Calculadora Básica\n",
        "num1 = float(input(\"Digite o primeiro número: \"))\n",
        "num2 = float(input(\"Digite o segundo número: \"))\n",
        "\n",
        "operacao = int(input(\"Operação:\\n 1 - Soma\\n 2 - Subtração\\n 3 - Divisão\\n 4 - Multiplicação\"))\n",
        "\n",
        "match operacao:\n",
        "  case 1:\n",
        "    print(num1 + num2)\n",
        "  case 2:\n",
        "    print(num1 - num2)\n",
        "  case 3:\n",
        "    print(num1 / num2)\n",
        "  case 4:\n",
        "    print(num1 * num2)\n"
      ],
      "metadata": {
        "colab": {
          "base_uri": "https://localhost:8080/"
        },
        "id": "irsbUdV_-BNu",
        "outputId": "9426221c-00cc-412c-8390-4c8af76e5127"
      },
      "execution_count": null,
      "outputs": [
        {
          "output_type": "stream",
          "name": "stdout",
          "text": [
            "Digite o primeiro número:5\n",
            "Digite o segundo número:10\n",
            "Operação:\n",
            " 1 - Soma\n",
            " 2 - Subtração\n",
            " 3 - Divisão\n",
            " 4 - Multiplicação1\n",
            "15.0\n"
          ]
        }
      ]
    },
    {
      "cell_type": "markdown",
      "source": [
        "3.2. Conversor de Temperatura:\n",
        "Prompt: Como fazer um programa em python que converta Celsius em Fahrenheit e vice versa?\n",
        "\n",
        "Dessa vez segui mais a risca a sugestão do chat, o que resultou em um código bem estruturado que cumpre os objetivos do programa e lida com opções inválidas."
      ],
      "metadata": {
        "id": "Kk3aqVJzkA45"
      }
    },
    {
      "cell_type": "code",
      "source": [
        "# 3.2. Conversor de Temperatura\n",
        "\n",
        "print(\"Conversor de Temperatura\")\n",
        "print(\"1 - Celsius para Fahrenheit\")\n",
        "print(\"2 - Fahrenheit para Celsius\")\n",
        "\n",
        "opcao = input(\"Escolha a opção (1 ou 2): \")\n",
        "\n",
        "if opcao == \"1\":\n",
        "    celsius = float(input(\"Digite a temperatura em Celsius: \"))\n",
        "    fahrenheit = (celsius * 9/5) + 32\n",
        "    print(f\"{celsius}°C equivalem a {fahrenheit:.2f}°F\")\n",
        "\n",
        "elif opcao == \"2\":\n",
        "    fahrenheit = float(input(\"Digite a temperatura em Fahrenheit: \"))\n",
        "    celsius = (fahrenheit - 32) * 5/9\n",
        "    print(f\"{fahrenheit}°F equivalem a {celsius:.2f}°C\")\n",
        "\n",
        "else:\n",
        "    print(\"Opção inválida!\")"
      ],
      "metadata": {
        "colab": {
          "base_uri": "https://localhost:8080/"
        },
        "id": "JvJrl7JqCAx6",
        "outputId": "2f7dd772-7e35-41ad-9232-9d6edb0b7176"
      },
      "execution_count": null,
      "outputs": [
        {
          "output_type": "stream",
          "name": "stdout",
          "text": [
            "Conversor de Temperatura\n",
            "1 - Celsius para Fahrenheit\n",
            "2 - Fahrenheit para Celsius\n",
            "Escolha a opção (1 ou 2): 1\n",
            "Digite a temperatura em Celsius: 50\n",
            "50.0°C equivalem a 122.00°F\n"
          ]
        }
      ]
    },
    {
      "cell_type": "markdown",
      "source": [
        "3.3. Contador de Palavras:\n",
        "Prompt: Como fazer um programa que recebe uma string do usuario e conta quantas palavras tem nela?\n",
        "\n",
        "O chat sugeriu usar split(), len() e f string, uma abordagem moderna e eficaz."
      ],
      "metadata": {
        "id": "LxmXw8RCkECz"
      }
    },
    {
      "cell_type": "code",
      "source": [
        "# 3.3. Contador de Palavras\n",
        "\n",
        "frase = input(\"Digite uma frase:\")\n",
        "\n",
        "palavras = frase.split()\n",
        "\n",
        "print(f\"A frase tem {len(palavras)} palavra(s).\")"
      ],
      "metadata": {
        "colab": {
          "base_uri": "https://localhost:8080/"
        },
        "id": "H9pE0DRMGV2T",
        "outputId": "8e893be4-09ca-4a00-89ff-dd1fb95668d5"
      },
      "execution_count": null,
      "outputs": [
        {
          "output_type": "stream",
          "name": "stdout",
          "text": [
            "Digite uma frase:Contador de Palavras\n",
            "A frase tem 3 palavra(s).\n"
          ]
        }
      ]
    },
    {
      "cell_type": "markdown",
      "source": [
        "3.4. Aplicativo Mais Complexo (Cifra de César)\n",
        "\n",
        "Prompt: Crie um programa um pouco mais complexo que os anteriores, como uma cifra de cesar com opções de criptografar e descriptografar os inputs do usuário. Comente e gere a documentação completa do programa.\n",
        "\n",
        "📝 Documentação completa: Programa Cifra de César\n",
        "📌 Objetivo\n",
        "\n",
        "Este programa implementa a Cifra de César, um dos algoritmos de criptografia mais antigos, que funciona deslocando cada letra do texto original um número fixo de posições no alfabeto.\n",
        "\n",
        "O usuário pode escolher entre:\n",
        "\n",
        "Criptografar uma mensagem\n",
        "\n",
        "Descriptografar uma mensagem codificada\n",
        "\n",
        "📥 Entradas do usuário\n",
        "\n",
        "Modo de operação:\n",
        "\n",
        "\"1\" → criptografar\n",
        "\n",
        "\"2\" → descriptografar\n",
        "\n",
        "Texto a ser processado:\n",
        "\n",
        "Uma string qualquer contendo letras, números, símbolos, etc.\n",
        "\n",
        "Chave de deslocamento:\n",
        "\n",
        "Um número inteiro indicando quantas posições o alfabeto deve ser deslocado.\n",
        "\n",
        "📤 Saída\n",
        "\n",
        "O texto convertido:\n",
        "\n",
        "Se criptografado: mensagem com as letras deslocadas.\n",
        "\n",
        "Se descriptografado: mensagem original recuperada.\n",
        "\n",
        "Letras maiúsculas e minúsculas são tratadas corretamente.\n",
        "Caracteres que não são letras (como espaços, números e pontuações) não são alterados.\n",
        "\n",
        "🧪 Exemplos de uso\n",
        "\n",
        "Exemplo 1 – Criptografar:\n",
        "\n",
        "Cifra de César\n",
        "1 - Criptografar\n",
        "2 - Descriptografar\n",
        "Escolha uma opção (1 ou 2): 1\n",
        "Digite a mensagem: Ola Mundo!\n",
        "Digite a chave (número de posições a deslocar): 3\n",
        "\n",
        "Resultado (criptografar):\n",
        "Rod Pxqgr!\n",
        "\n",
        "Exemplo 2 – Descriptografar:\n",
        "\n",
        "Escolha uma opção (1 ou 2): 2\n",
        "Digite a mensagem: Rod Pxqgr!\n",
        "Digite a chave (número de posições a deslocar): 3\n",
        "\n",
        "Resultado (descriptografar):\n",
        "Ola Mundo!\n",
        "\n",
        "🧠 Como funciona a lógica da cifra\n",
        "\n",
        "Para cada letra da string:\n",
        "\n",
        "Se for uma letra minúscula (base = 'a') ou maiúscula (base = 'A'):\n",
        "\n",
        "Convertemos a letra em número com ord()\n",
        "\n",
        "Subtraímos a base (ord('a') ou ord('A')) para alinhar com 0–25\n",
        "\n",
        "Aplicamos o deslocamento com + chave (criptografar) ou - chave (descriptografar)\n",
        "\n",
        "Usamos % 26 para manter dentro do alfabeto\n",
        "\n",
        "Convertimos de volta para caractere com chr()\n",
        "\n",
        "📦 Dependências\n",
        "\n",
        "Nenhuma biblioteca externa é necessária — o programa usa apenas funções internas do Python (ord, chr, input, print).\n",
        "\n",
        "✅ Possíveis melhorias ou extensões\n",
        "\n",
        "Validar que a chave seja um número positivo.\n",
        "\n",
        "Ignorar acentos (ou removê-los).\n",
        "\n",
        "Criar um modo de “força bruta” para tentar todas as chaves automaticamente.\n",
        "\n",
        "Permitir a entrada e saída de arquivos em vez de digitar no terminal."
      ],
      "metadata": {
        "id": "RKjHw6HykKjb"
      }
    },
    {
      "cell_type": "code",
      "source": [
        "# 3.4. Aplicativo Mais Complexo (Cifra de César)\n",
        "def cifra_cesar(texto, chave, modo):\n",
        "    resultado = \"\"\n",
        "\n",
        "    for char in texto:\n",
        "        if char.isalpha():  # Verifica se o caractere é uma letra\n",
        "            base = ord('A') if char.isupper() else ord('a')  # Define o ponto de partida (A ou a)\n",
        "\n",
        "            if modo == \"criptografar\":\n",
        "                # Aplica a fórmula da cifra de César para criptografar\n",
        "                novo_char = chr((ord(char) - base + chave) % 26 + base)\n",
        "            elif modo == \"descriptografar\":\n",
        "                # Aplica a fórmula para descriptografar (movimento inverso)\n",
        "                novo_char = chr((ord(char) - base - chave) % 26 + base)\n",
        "\n",
        "            resultado += novo_char  # Adiciona a letra convertida ao resultado\n",
        "        else:\n",
        "            resultado += char  # Mantém caracteres que não são letras (espaços, pontuação, etc.)\n",
        "\n",
        "    return resultado  # Retorna o texto criptografado ou descriptografado\n",
        "\n",
        "\n",
        "# Interface com o usuário\n",
        "print(\"Cifra de César\")\n",
        "print(\"1 - Criptografar\")\n",
        "print(\"2 - Descriptografar\")\n",
        "\n",
        "opcao = input(\"Escolha uma opção (1 ou 2): \")  # Recebe a escolha do usuário\n",
        "\n",
        "if opcao not in [\"1\", \"2\"]:\n",
        "    print(\"Opção inválida!\")  # Valida a escolha\n",
        "else:\n",
        "    texto = input(\"Digite a mensagem: \")  # Mensagem a ser processada\n",
        "    chave = int(input(\"Digite a chave (número de posições a deslocar): \"))  # Valor de deslocamento\n",
        "\n",
        "    # Define o modo com base na escolha\n",
        "    if opcao == \"1\":\n",
        "        modo = \"criptografar\"\n",
        "    else:\n",
        "        modo = \"descriptografar\"\n",
        "\n",
        "    # Chama a função para processar a mensagem\n",
        "    resultado = cifra_cesar(texto, chave, modo)\n",
        "\n",
        "    # Exibe o resultado final\n",
        "    print(f\"\\nResultado ({modo}):\\n{resultado}\")\n"
      ],
      "metadata": {
        "colab": {
          "base_uri": "https://localhost:8080/"
        },
        "id": "votMHJwwJPEp",
        "outputId": "08f1cd40-3ffb-4840-d76d-6153a8d16f8e"
      },
      "execution_count": null,
      "outputs": [
        {
          "output_type": "stream",
          "name": "stdout",
          "text": [
            "Cifra de César\n",
            "1 - Criptografar\n",
            "2 - Descriptografar\n",
            "Escolha uma opção (1 ou 2): 1\n",
            "Digite a mensagem: Oi\n",
            "Digite a chave (número de posições a deslocar): 3\n",
            "\n",
            "Resultado (criptografar):\n",
            "Rl\n"
          ]
        }
      ]
    },
    {
      "cell_type": "markdown",
      "source": [
        "# 4.1 Reflexão sobre o ChatGPT\n",
        "\n",
        "IAs como o chatGPT de fato facilitam muito no aprendizado de linguagens como Python. Elas fornecem explicações detalhadas para qualquer pergunta, sugestões de exercícios para treinar conceitos novos, dicas de materiais para aprofundar o aprendizado, correções de erros, alternativas mais eficiêntes para o mesmo problema etc. A parte mais díficil com certeza é a de ter sempre cautela ao analisar as respostas, já que costumam surgir algumas erradas com mais frequência que o ideal. Tendo isso em mente, ele se torna uma ótima ferramenta para superar desafios, desde a falta de um ponto e virgula ou identação despercebidos até a dúvidas mais complexas sobre bibliotecas ou APIs."
      ],
      "metadata": {
        "id": "hehzrHHBKw4o"
      }
    }
  ]
}